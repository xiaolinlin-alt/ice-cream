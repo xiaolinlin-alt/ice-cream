{
 "cells": [
  {
   "cell_type": "code",
   "id": "initial_id",
   "metadata": {
    "collapsed": true,
    "ExecuteTime": {
     "end_time": "2025-04-08T17:21:05.801702Z",
     "start_time": "2025-04-08T17:21:05.674802Z"
    }
   },
   "source": [
    "import torch\n",
    "import torch.nn as nn\n",
    "import torch.nn.functional as F\n",
    "import torch.optim as optim\n",
    "from torch.utils.data import DataLoader,random_split\n",
    "from torchvision import datasets\n",
    "import torchvision.transforms as transforms\n",
    "import matplotlib.pyplot as plt\n",
    "\n",
    "torch.manual_seed(12046)\n",
    "dataset=datasets.MNIST(root='./mnist',train=True,download=True,transform=transforms.ToTensor())\n",
    "print(dataset[21])\n",
    "x,y=dataset[21]\n",
    "print(x.shape)\n",
    "plt.imshow(x.squeeze(0).numpy(),cmap=plt.cm.binary)\n"
   ],
   "outputs": [
    {
     "name": "stdout",
     "output_type": "stream",
     "text": [
      "(tensor([[[0.0000, 0.0000, 0.0000, 0.0000, 0.0000, 0.0000, 0.0000, 0.0000,\n",
      "          0.0000, 0.0000, 0.0000, 0.0000, 0.0000, 0.0000, 0.0000, 0.0000,\n",
      "          0.0000, 0.0000, 0.0000, 0.0000, 0.0000, 0.0000, 0.0000, 0.0000,\n",
      "          0.0000, 0.0000, 0.0000, 0.0000],\n",
      "         [0.0000, 0.0000, 0.0000, 0.0000, 0.0000, 0.0000, 0.0000, 0.0000,\n",
      "          0.0000, 0.0000, 0.0000, 0.0000, 0.0000, 0.0000, 0.0000, 0.0000,\n",
      "          0.0000, 0.0000, 0.0000, 0.0000, 0.0000, 0.0000, 0.0000, 0.0000,\n",
      "          0.0000, 0.0000, 0.0000, 0.0000],\n",
      "         [0.0000, 0.0000, 0.0000, 0.0000, 0.0000, 0.0000, 0.0000, 0.0000,\n",
      "          0.0000, 0.0000, 0.0000, 0.0000, 0.0000, 0.0000, 0.0000, 0.0000,\n",
      "          0.0000, 0.0000, 0.0000, 0.0000, 0.0000, 0.0000, 0.0000, 0.0000,\n",
      "          0.0000, 0.0000, 0.0000, 0.0000],\n",
      "         [0.0000, 0.0000, 0.0000, 0.0000, 0.0000, 0.0000, 0.0000, 0.0000,\n",
      "          0.0000, 0.0000, 0.0000, 0.0000, 0.0000, 0.0000, 0.0000, 0.0000,\n",
      "          0.0000, 0.0000, 0.0000, 0.0000, 0.0000, 0.0000, 0.0000, 0.0000,\n",
      "          0.0000, 0.0000, 0.0000, 0.0000],\n",
      "         [0.0000, 0.0000, 0.0000, 0.0000, 0.0000, 0.0000, 0.0000, 0.0000,\n",
      "          0.0000, 0.0000, 0.0000, 0.0000, 0.0000, 0.0000, 0.0000, 0.0000,\n",
      "          0.0000, 0.2510, 0.9922, 1.0000, 0.2471, 0.0000, 0.0000, 0.0000,\n",
      "          0.0000, 0.0000, 0.0000, 0.0000],\n",
      "         [0.0000, 0.0000, 0.0000, 0.0000, 0.0000, 0.0000, 0.0000, 0.0000,\n",
      "          0.0000, 0.0000, 0.0000, 0.0000, 0.0000, 0.0000, 0.0000, 0.0000,\n",
      "          0.3765, 0.8039, 0.9843, 0.9922, 0.8039, 0.4353, 0.0157, 0.0000,\n",
      "          0.0000, 0.0000, 0.0000, 0.0000],\n",
      "         [0.0000, 0.0000, 0.0000, 0.0000, 0.0000, 0.0000, 0.0000, 0.0000,\n",
      "          0.0000, 0.0000, 0.0000, 0.0000, 0.0000, 0.0000, 0.0000, 0.3765,\n",
      "          0.7412, 0.9843, 0.9843, 0.9922, 0.9843, 0.9843, 0.1216, 0.0000,\n",
      "          0.0000, 0.0000, 0.0000, 0.0000],\n",
      "         [0.0000, 0.0000, 0.0000, 0.0000, 0.0000, 0.0000, 0.0000, 0.0000,\n",
      "          0.0000, 0.0000, 0.0000, 0.0000, 0.0627, 0.2510, 0.8745, 0.9569,\n",
      "          0.9843, 0.9843, 0.8275, 0.8353, 0.9843, 0.9843, 0.1216, 0.0000,\n",
      "          0.0000, 0.0000, 0.0000, 0.0000],\n",
      "         [0.0000, 0.0000, 0.0000, 0.0000, 0.0000, 0.0000, 0.0000, 0.0000,\n",
      "          0.0000, 0.0000, 0.0000, 0.3137, 0.7098, 0.9843, 0.9922, 0.9843,\n",
      "          0.9843, 0.9843, 0.3686, 0.3765, 0.9843, 0.9843, 0.1216, 0.0000,\n",
      "          0.0000, 0.0000, 0.0000, 0.0000],\n",
      "         [0.0000, 0.0000, 0.0000, 0.0000, 0.0000, 0.0000, 0.0000, 0.0000,\n",
      "          0.0000, 0.0000, 0.3608, 0.9922, 0.9922, 0.9922, 1.0000, 0.9922,\n",
      "          0.9922, 0.9922, 0.3725, 0.3765, 0.9922, 0.9922, 0.1216, 0.0000,\n",
      "          0.0000, 0.0000, 0.0000, 0.0000],\n",
      "         [0.0000, 0.0000, 0.0000, 0.0000, 0.0000, 0.0000, 0.0000, 0.0000,\n",
      "          0.0000, 0.3608, 0.9255, 0.9843, 0.9529, 0.8627, 0.9137, 0.9843,\n",
      "          0.9843, 0.9529, 0.3216, 0.3765, 0.9843, 0.9843, 0.1216, 0.0000,\n",
      "          0.0000, 0.0000, 0.0000, 0.0000],\n",
      "         [0.0000, 0.0000, 0.0000, 0.0000, 0.0000, 0.0000, 0.0000, 0.0000,\n",
      "          0.3137, 0.9922, 0.9843, 0.9843, 0.7373, 0.0000, 0.3765, 0.9843,\n",
      "          0.9843, 0.4275, 0.0000, 0.3765, 0.9843, 0.9843, 0.1216, 0.0000,\n",
      "          0.0000, 0.0000, 0.0000, 0.0000],\n",
      "         [0.0000, 0.0000, 0.0000, 0.0000, 0.0000, 0.0000, 0.0000, 0.3765,\n",
      "          0.9412, 0.9922, 0.9529, 0.7373, 0.1647, 0.0000, 0.3765, 0.8000,\n",
      "          0.4275, 0.0157, 0.0000, 0.0471, 0.7725, 0.9843, 0.1216, 0.0000,\n",
      "          0.0000, 0.0000, 0.0000, 0.0000],\n",
      "         [0.0000, 0.0000, 0.0000, 0.0000, 0.0000, 0.0000, 0.0000, 0.8667,\n",
      "          0.9843, 0.9922, 0.4745, 0.0000, 0.0000, 0.0000, 0.1412, 0.0902,\n",
      "          0.0000, 0.0000, 0.0000, 0.0000, 0.7451, 0.9843, 0.1216, 0.0000,\n",
      "          0.0000, 0.0000, 0.0000, 0.0000],\n",
      "         [0.0000, 0.0000, 0.0000, 0.0000, 0.0000, 0.0000, 0.1882, 0.9176,\n",
      "          0.9922, 0.0000, 0.0000, 0.0000, 0.0000, 0.0000, 0.0000, 0.0000,\n",
      "          0.0000, 0.0000, 0.0000, 0.0000, 0.7490, 0.9922, 0.1216, 0.0000,\n",
      "          0.0000, 0.0000, 0.0000, 0.0000],\n",
      "         [0.0000, 0.0000, 0.0000, 0.0000, 0.0000, 0.1725, 0.8667, 0.9843,\n",
      "          0.9843, 0.0000, 0.0000, 0.0000, 0.0000, 0.0000, 0.0000, 0.0000,\n",
      "          0.0000, 0.0000, 0.0000, 0.0471, 0.7725, 0.9843, 0.1216, 0.0000,\n",
      "          0.0000, 0.0000, 0.0000, 0.0000],\n",
      "         [0.0000, 0.0000, 0.0000, 0.0000, 0.0000, 0.7451, 0.9843, 0.9843,\n",
      "          0.9843, 0.0000, 0.0000, 0.0000, 0.0000, 0.0000, 0.0000, 0.0000,\n",
      "          0.0000, 0.0000, 0.0000, 0.3765, 0.9843, 0.9843, 0.1216, 0.0000,\n",
      "          0.0000, 0.0000, 0.0000, 0.0000],\n",
      "         [0.0000, 0.0000, 0.0000, 0.0000, 0.0000, 0.7451, 0.9843, 0.9843,\n",
      "          0.4431, 0.0000, 0.0000, 0.0000, 0.0000, 0.0000, 0.0000, 0.0000,\n",
      "          0.0000, 0.0000, 0.1569, 0.9176, 0.9843, 0.8588, 0.0902, 0.0000,\n",
      "          0.0000, 0.0000, 0.0000, 0.0000],\n",
      "         [0.0000, 0.0000, 0.0000, 0.0000, 0.0000, 0.7451, 0.9843, 0.9843,\n",
      "          0.3686, 0.0000, 0.0000, 0.0000, 0.0000, 0.0000, 0.0000, 0.0000,\n",
      "          0.0000, 0.1569, 0.8510, 0.9922, 0.9059, 0.1843, 0.0000, 0.0000,\n",
      "          0.0000, 0.0000, 0.0000, 0.0000],\n",
      "         [0.0000, 0.0000, 0.0000, 0.0000, 0.0000, 0.7490, 0.9922, 0.9922,\n",
      "          0.9922, 0.0000, 0.0000, 0.0000, 0.0000, 0.0000, 0.0000, 0.0471,\n",
      "          0.6824, 0.9922, 0.9922, 0.8588, 0.1529, 0.0000, 0.0000, 0.0000,\n",
      "          0.0000, 0.0000, 0.0000, 0.0000],\n",
      "         [0.0000, 0.0000, 0.0000, 0.0000, 0.0000, 0.2627, 0.9255, 0.9843,\n",
      "          0.9843, 0.7490, 0.7451, 0.4353, 0.2824, 0.7451, 0.7490, 0.7725,\n",
      "          0.9843, 0.9529, 0.4745, 0.1529, 0.0000, 0.0000, 0.0000, 0.0000,\n",
      "          0.0000, 0.0000, 0.0000, 0.0000],\n",
      "         [0.0000, 0.0000, 0.0000, 0.0000, 0.0000, 0.0000, 0.2471, 0.9255,\n",
      "          0.9843, 0.9922, 0.9843, 0.9843, 0.9843, 0.9843, 0.9922, 0.9843,\n",
      "          0.7373, 0.3686, 0.0000, 0.0000, 0.0000, 0.0000, 0.0000, 0.0000,\n",
      "          0.0000, 0.0000, 0.0000, 0.0000],\n",
      "         [0.0000, 0.0000, 0.0000, 0.0000, 0.0000, 0.0000, 0.0000, 0.1059,\n",
      "          0.5059, 0.9922, 0.9843, 0.9843, 0.9843, 0.9843, 0.8980, 0.6588,\n",
      "          0.0588, 0.0000, 0.0000, 0.0000, 0.0000, 0.0000, 0.0000, 0.0000,\n",
      "          0.0000, 0.0000, 0.0000, 0.0000],\n",
      "         [0.0000, 0.0000, 0.0000, 0.0000, 0.0000, 0.0000, 0.0000, 0.0000,\n",
      "          0.0000, 0.3725, 0.8314, 0.9843, 0.8275, 0.3686, 0.2314, 0.0000,\n",
      "          0.0000, 0.0000, 0.0000, 0.0000, 0.0000, 0.0000, 0.0000, 0.0000,\n",
      "          0.0000, 0.0000, 0.0000, 0.0000],\n",
      "         [0.0000, 0.0000, 0.0000, 0.0000, 0.0000, 0.0000, 0.0000, 0.0000,\n",
      "          0.0000, 0.0000, 0.0000, 0.0000, 0.0000, 0.0000, 0.0000, 0.0000,\n",
      "          0.0000, 0.0000, 0.0000, 0.0000, 0.0000, 0.0000, 0.0000, 0.0000,\n",
      "          0.0000, 0.0000, 0.0000, 0.0000],\n",
      "         [0.0000, 0.0000, 0.0000, 0.0000, 0.0000, 0.0000, 0.0000, 0.0000,\n",
      "          0.0000, 0.0000, 0.0000, 0.0000, 0.0000, 0.0000, 0.0000, 0.0000,\n",
      "          0.0000, 0.0000, 0.0000, 0.0000, 0.0000, 0.0000, 0.0000, 0.0000,\n",
      "          0.0000, 0.0000, 0.0000, 0.0000],\n",
      "         [0.0000, 0.0000, 0.0000, 0.0000, 0.0000, 0.0000, 0.0000, 0.0000,\n",
      "          0.0000, 0.0000, 0.0000, 0.0000, 0.0000, 0.0000, 0.0000, 0.0000,\n",
      "          0.0000, 0.0000, 0.0000, 0.0000, 0.0000, 0.0000, 0.0000, 0.0000,\n",
      "          0.0000, 0.0000, 0.0000, 0.0000],\n",
      "         [0.0000, 0.0000, 0.0000, 0.0000, 0.0000, 0.0000, 0.0000, 0.0000,\n",
      "          0.0000, 0.0000, 0.0000, 0.0000, 0.0000, 0.0000, 0.0000, 0.0000,\n",
      "          0.0000, 0.0000, 0.0000, 0.0000, 0.0000, 0.0000, 0.0000, 0.0000,\n",
      "          0.0000, 0.0000, 0.0000, 0.0000]]]), 0)\n",
      "torch.Size([1, 28, 28])\n"
     ]
    },
    {
     "data": {
      "text/plain": [
       "<matplotlib.image.AxesImage at 0x22741784410>"
      ]
     },
     "execution_count": 15,
     "metadata": {},
     "output_type": "execute_result"
    },
    {
     "data": {
      "text/plain": [
       "<Figure size 640x480 with 1 Axes>"
      ],
      "image/png": "[encoded data removed]"
     },
     "metadata": {},
     "output_type": "display_data"
    }
   ],
   "execution_count": 15
  },
  {
   "metadata": {
    "ExecuteTime": {
     "end_time": "2025-04-08T17:21:05.866087Z",
     "start_time": "2025-04-08T17:21:05.812277Z"
    }
   },
   "cell_type": "code",
   "source": [
    "train_set,val_set=random_split(dataset,[50000,10000])\n",
    "test_set=datasets.MNIST(root='./mnist',train=False,download=True,transform=transforms.ToTensor())\n",
    "train_loader=DataLoader(train_set,batch_size=500,shuffle=True)\n",
    "val_loader=DataLoader(val_set,batch_size=500,shuffle=True)\n",
    "test_loader=DataLoader(test_set,batch_size=500,shuffle=True)\n",
    "x,y=next(iter(train_loader))\n",
    "print(x.shape,y.shape)\n",
    "x.view(x.shape[0],-1).shape"
   ],
   "id": "219544c217e4b679",
   "outputs": [
    {
     "name": "stdout",
     "output_type": "stream",
     "text": [
      "torch.Size([500, 1, 28, 28]) torch.Size([500])\n"
     ]
    },
    {
     "data": {
      "text/plain": [
       "torch.Size([500, 784])"
      ]
     },
     "execution_count": 16,
     "metadata": {},
     "output_type": "execute_result"
    }
   ],
   "execution_count": 16
  },
  {
   "metadata": {
    "ExecuteTime": {
     "end_time": "2025-04-08T17:21:06.881064Z",
     "start_time": "2025-04-08T17:21:05.876779Z"
    }
   },
   "cell_type": "code",
   "source": [
    "#生成模型\n",
    "model=nn.Sequential(\n",
    "    nn.Linear(28*28,30),nn.Sigmoid(),\n",
    "    nn.Linear(30,20),nn.Sigmoid(),\n",
    "    nn.Linear(20,10)\n",
    ")\n",
    "#评估模型\n",
    "eval_iters=10#超参数\n",
    "\n",
    "def estimate_loss(model):\n",
    "    re={}\n",
    "    re['train']=_loss(model,train_loader)\n",
    "    re['val']=_loss(model,val_loader)\n",
    "    re['test']=_loss(model,test_loader)\n",
    "    return re\n",
    "\n",
    "@torch.no_grad()\n",
    "def _loss(model,dataloader):\n",
    "    loss=[]\n",
    "    acc=[]\n",
    "    data_iter=iter(dataloader)\n",
    "    for t in range(eval_iters):\n",
    "        inputs,labels=next(data_iter)\n",
    "        #inputs:(500,1,28,28)\n",
    "        #labels:(500)\n",
    "        B,C,H,W=inputs.shape\n",
    "        logits=model(inputs.view(B,-1))\n",
    "        loss.append(F.cross_entropy(logits,labels))\n",
    "        preds=torch.argmax(logits,dim=-1)\n",
    "        acc.append((preds==labels).sum()/B)\n",
    "    re={\n",
    "        'loss':torch.tensor(loss).mean().item(),\n",
    "        'acc':torch.tensor(acc).mean().item()\n",
    "    }\n",
    "    return re\n",
    "estimate_loss(model)"
   ],
   "id": "bba1b6e460d9e9e8",
   "outputs": [
    {
     "data": {
      "text/plain": [
       "{'train': {'loss': 2.3540306091308594, 'acc': 0.1021999940276146},\n",
       " 'val': {'loss': 2.36007022857666, 'acc': 0.10199999809265137},\n",
       " 'test': {'loss': 2.3542590141296387, 'acc': 0.10559999942779541}}"
      ]
     },
     "execution_count": 17,
     "metadata": {},
     "output_type": "execute_result"
    }
   ],
   "execution_count": 17
  },
  {
   "metadata": {
    "ExecuteTime": {
     "end_time": "2025-04-08T17:29:52.723376Z",
     "start_time": "2025-04-08T17:29:52.717424Z"
    }
   },
   "cell_type": "code",
   "source": [
    "def train_model(model,optimizer,epochs=10):\n",
    "    lossi=[]\n",
    "    for e in range(epochs):\n",
    "        for data in train_loader:\n",
    "            inputs,labels=data\n",
    "            B,C,H,W=inputs.shape\n",
    "            logits=model(inputs.view(B,-1))\n",
    "            loss=F.cross_entropy(logits,labels)\n",
    "            optimizer.zero_grad()\n",
    "            loss.backward()\n",
    "            optimizer.step()\n",
    "        stats=estimate_loss(model)\n",
    "        train_loss=f'{stats[\"train\"][\"loss\"]:.4f}'\n",
    "        val_loss=f'{stats[\"val\"][\"loss\"]:.4f}'\n",
    "        test_loss=f'{stats[\"test\"][\"loss\"]:.4f}'\n",
    "        print(f'Epoch {e} train{train_loss},val{val_loss},test{test_loss}')\n",
    "    return lossi\n",
    "loss={}"
   ],
   "id": "b847d30396cc6f1f",
   "outputs": [],
   "execution_count": 19
  },
  {
   "metadata": {
    "ExecuteTime": {
     "end_time": "2025-04-08T17:30:31.467024Z",
     "start_time": "2025-04-08T17:29:54.058579Z"
    }
   },
   "cell_type": "code",
   "source": [
    "model=nn.Sequential(\n",
    "    nn.Linear(28*28,30),nn.Sigmoid(),\n",
    "    nn.Linear(30,20),nn.Sigmoid(),\n",
    "    nn.Linear(20,10)\n",
    ")\n",
    "loss['mlp']=train_model(model,optim.SGD(model.parameters(),lr=0.01))"
   ],
   "id": "98def91a9009ee0b",
   "outputs": [
    {
     "name": "stdout",
     "output_type": "stream",
     "text": [
      "Epoch 0 train2.3105,val2.3096,test2.3101\n",
      "Epoch 1 train2.3020,val2.3035,test2.3022\n",
      "Epoch 2 train2.2990,val2.3007,test2.3002\n",
      "Epoch 3 train2.2986,val2.3003,test2.2998\n",
      "Epoch 4 train2.2998,val2.2990,test2.2984\n",
      "Epoch 5 train2.2978,val2.2994,test2.2982\n",
      "Epoch 6 train2.2974,val2.2997,test2.2976\n",
      "Epoch 7 train2.2960,val2.2989,test2.2980\n",
      "Epoch 8 train2.2954,val2.2974,test2.2957\n",
      "Epoch 9 train2.2957,val2.2976,test2.2961\n"
     ]
    }
   ],
   "execution_count": 20
  },
  {
   "metadata": {
    "ExecuteTime": {
     "end_time": "2025-04-08T17:32:09.943401Z",
     "start_time": "2025-04-08T17:31:31.312485Z"
    }
   },
   "cell_type": "code",
   "source": [
    "model=nn.Sequential(\n",
    "    nn.Linear(28*28,30),nn.ReLU(),\n",
    "    nn.Linear(30,20),nn.ReLU(),\n",
    "    nn.Linear(20,10)\n",
    ")\n",
    "loss['mlp_relu']=train_model(model,optim.SGD(model.parameters(),lr=0.01))"
   ],
   "id": "46c949ce6b72afcd",
   "outputs": [
    {
     "name": "stdout",
     "output_type": "stream",
     "text": [
      "Epoch 0 train2.2976,val2.2961,test2.2924\n",
      "Epoch 1 train2.2688,val2.2715,test2.2691\n",
      "Epoch 2 train2.2198,val2.2238,test2.2169\n",
      "Epoch 3 train2.1447,val2.1453,test2.1385\n",
      "Epoch 4 train2.0157,val2.0130,test1.9986\n",
      "Epoch 5 train1.8157,val1.8202,test1.8020\n",
      "Epoch 6 train1.6075,val1.5986,test1.5918\n",
      "Epoch 7 train1.4156,val1.4017,test1.3997\n",
      "Epoch 8 train1.2511,val1.2513,test1.2380\n",
      "Epoch 9 train1.1250,val1.1414,test1.1108\n"
     ]
    }
   ],
   "execution_count": 22
  },
  {
   "metadata": {
    "ExecuteTime": {
     "end_time": "2025-04-08T17:33:26.421868Z",
     "start_time": "2025-04-08T17:32:47.483991Z"
    }
   },
   "cell_type": "code",
   "source": [
    "model=nn.Sequential(\n",
    "    nn.Linear(28*28,30,bias=False),nn.LayerNorm(30),nn.ReLU(),\n",
    "    nn.Linear(30,20,bias=False),nn.LayerNorm(20),nn.ReLU(),\n",
    "    nn.Linear(20,10)\n",
    ")\n",
    "loss['mlp_relu_layer']=train_model(model,optim.SGD(model.parameters(),lr=0.01))"
   ],
   "id": "e0ede0cf6f839138",
   "outputs": [
    {
     "name": "stdout",
     "output_type": "stream",
     "text": [
      "Epoch 0 train1.5017,val1.5163,test1.5006\n",
      "Epoch 1 train1.0977,val1.1131,test1.0975\n",
      "Epoch 2 train0.8201,val0.8227,test0.8152\n",
      "Epoch 3 train0.6339,val0.6295,test0.6299\n",
      "Epoch 4 train0.4916,val0.5153,test0.4929\n",
      "Epoch 5 train0.4099,val0.4212,test0.4073\n",
      "Epoch 6 train0.3575,val0.3739,test0.3583\n",
      "Epoch 7 train0.3210,val0.3292,test0.3363\n",
      "Epoch 8 train0.2975,val0.3146,test0.3170\n",
      "Epoch 9 train0.2709,val0.2884,test0.2684\n"
     ]
    }
   ],
   "execution_count": 23
  },
  {
   "metadata": {
    "ExecuteTime": {
     "end_time": "2025-04-08T17:36:41.550857Z",
     "start_time": "2025-04-08T17:36:41.470316Z"
    }
   },
   "cell_type": "code",
   "source": [
    "for i in ['mlp','mlp_relu','mlp_relu_layer']:\n",
    "    plt.plot(torch.tensor(loss[i]),label=i)\n",
    "plt.legend()\n",
    "plt.show()"
   ],
   "id": "1e5cd23d4a1e6254",
   "outputs": [
    {
     "data": {
      "text/plain": [
       "<Figure size 640x480 with 1 Axes>"
      ],
      "image/png": "[encoded data removed]"
     },
     "metadata": {},
     "output_type": "display_data"
    }
   ],
   "execution_count": 30
  }
 ],
 "metadata": {
  "kernelspec": {
   "display_name": "Python 3",
   "language": "python",
   "name": "python3"
  },
  "language_info": {
   "codemirror_mode": {
    "name": "ipython",
    "version": 2
   },
   "file_extension": ".py",
   "mimetype": "text/x-python",
   "name": "python",
   "nbconvert_exporter": "python",
   "pygments_lexer": "ipython2",
   "version": "2.7.6"
  }
 },
 "nbformat": 4,
 "nbformat_minor": 5
}
