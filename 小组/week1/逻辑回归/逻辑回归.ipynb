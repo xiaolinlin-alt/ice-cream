{
 "cells": [
  {
   "cell_type": "markdown",
   "id": "b0be119a-5ad3-421e-aaba-abaa3211c531",
   "metadata": {},
   "source": [
    "# 逻辑回归\n",
    "预测学生是否被大学录取，1为录取，0为不录取\n",
    "根据两次测试的评分\n",
    "二分类问题"
   ]
  },
  {
   "cell_type": "code",
   "execution_count": 2,
   "id": "5ea7c48b-a96b-457a-be4d-6f1f9050c985",
   "metadata": {},
   "outputs": [],
   "source": [
    "import numpy as np#导入numpy库\n",
    "import pandas as pd#导入pandas库\n",
    "import matplotlib.pyplot as plt#导入绘图库"
   ]
  },
  {
   "cell_type": "markdown",
   "id": "59112b9d-3a0f-474e-aa53-704a84b5304f",
   "metadata": {},
   "source": [
    "检查数据"
   ]
  },
  {
   "cell_type": "code",
   "execution_count": 4,
   "id": "069fa483-dbab-4b13-850f-7c5b64aa309b",
   "metadata": {},
   "outputs": [
    {
     "name": "stdout",
     "output_type": "stream",
     "text": [
      "       Exam1      Exam2  Admitted\n",
      "0  30.286711  43.894998         0\n",
      "1  35.847409  72.902198         0\n",
      "2  60.182599  86.308552         1\n",
      "3  79.032736  75.344376         1\n",
      "4  45.083277  56.316372         0\n"
     ]
    }
   ],
   "source": [
    "path=\"data1.txt\"#路径\n",
    "data=pd.read_csv(path)#读取文件\n",
    "print(data.head())#展示表格的头部"
   ]
  },
  {
   "cell_type": "code",
   "execution_count": 5,
   "id": "e7f47a4d-d23c-4548-87de-b4a1ef7472da",
   "metadata": {},
   "outputs": [
    {
     "name": "stdout",
     "output_type": "stream",
     "text": [
      "       Exam1      Exam2  Admitted\n",
      "2  60.182599  86.308552         1\n",
      "3  79.032736  75.344376         1\n",
      "5  61.106665  96.511426         1\n",
      "6  75.024746  46.554014         1\n",
      "7  76.098787  87.420570         1\n"
     ]
    },
    {
     "data": {
      "image/png": "[encoded data removed]",
      "text/plain": [
       "<Figure size 500x500 with 1 Axes>"
      ]
     },
     "metadata": {},
     "output_type": "display_data"
    }
   ],
   "source": [
    "positive = data[data['Admitted'].isin([1])]#筛选Admitted中值为1的数据\n",
    "negative = data[data['Admitted'].isin([0])]#筛选Admitted中值为0的数据\n",
    "print(positive.head())#查看数据\n",
    "fig=plt.figure(figsize=(5,5))#创建图像\n",
    "plt.scatter(positive[\"Exam1\"], positive[\"Exam2\"],color='green',marker=\"o\",label=\"Admitted\")#绘制散点颜色绿色形状为圆圈\n",
    "plt.scatter(negative[\"Exam1\"],negative[\"Exam2\"],color='red',marker=\"x\",label=\"Not Admitted\")#绘制散点图红色形状为x\n",
    "plt.legend()#图例\n",
    "plt.xlabel(\"Exam1\")#x轴标签\n",
    "plt.ylabel(\"Exam2\")#y轴标签\n",
    "plt.show()"
   ]
  },
  {
   "cell_type": "markdown",
   "id": "79b859d3-e76d-40b4-b465-42fdc492d798",
   "metadata": {},
   "source": [
    "如图所示，两个颜色的数据中间存在明显的决策边界\n"
   ]
  },
  {
   "cell_type": "markdown",
   "id": "4a6555c1-154e-4c83-8ac0-04caaf29358d",
   "metadata": {},
   "source": [
    "在逻辑回归中，我们所使用的是sigmoid函数\n",
    "$$\n",
    "g(z) = \\frac{1}{1 + e^{-z}}\n",
    "$$\n",
    "因此，逻辑回归模型的函数就是\n",
    "$$\n",
    "h_{\\theta}(x) = \\frac{1}{1 + e^{-\\theta^T x}}\n",
    "$$"
   ]
  },
  {
   "cell_type": "markdown",
   "id": "885133aa-2544-4e63-8137-416fe76f8eaf",
   "metadata": {},
   "source": []
  },
  {
   "cell_type": "code",
   "execution_count": 9,
   "id": "54f1c66c-b4e1-4324-8109-3df2ad676031",
   "metadata": {},
   "outputs": [],
   "source": [
    "#现在，让我们来定义一下这个函数\n",
    "def sigmoid(z):\n",
    "    \"\"\"\n",
    "    sigmoid函数\n",
    "    :param z:\n",
    "    :return: sigmoid函数值\n",
    "    \"\"\"\n",
    "    return 1/(1+np.exp(-z))"
   ]
  },
  {
   "cell_type": "markdown",
   "id": "c7e100f5-07c8-41ac-b32a-613a3c258c9d",
   "metadata": {},
   "source": [
    "代价函数是\n",
    "$J(\\theta) = \\frac{1}{m} \\sum_{i=1}^{m} \\left[ -y^{(i)} \\log(h_{\\theta}(x^{(i)})) - (1 - y^{(i)}) \\log(1 - h_{\\theta}(x^{(i)})) \\right]$"
   ]
  },
  {
   "cell_type": "code",
   "execution_count": 11,
   "id": "860558c6-463f-4d0f-8071-2b42d517efda",
   "metadata": {},
   "outputs": [],
   "source": [
    "def cost_function(x,y,theta):\n",
    "    \"\"\"\n",
    "    定义代价函数\n",
    "    :param x: 数据集\n",
    "    :param y: 结果\n",
    "    :param theta:模型参数\n",
    "    :return:代价函数值\n",
    "    \"\"\"\n",
    "    theta = np.matrix(theta)#转换为矩阵，方便后面进行运算\n",
    "    x=np.matrix(x)\n",
    "    y=np.matrix(y)\n",
    "    m=np.multiply(-y,np.log(sigmoid(x*theta.T)))#数学公式\n",
    "    n=np.multiply(1-y,np.log(1-sigmoid(x*theta.T)))\n",
    "    return np.sum(m-n)/len(x)"
   ]
  },
  {
   "cell_type": "markdown",
   "id": "aee35204-fffb-4e38-8551-fdebe395f538",
   "metadata": {},
   "source": [
    "此时，我们需要最小化代价函数\n",
    "用梯度下降实现"
   ]
  },
  {
   "cell_type": "markdown",
   "id": "b56f320b-6738-49b5-b350-6d9a067eef72",
   "metadata": {},
   "source": [
    "$$\\frac{\\partial J\\left( \\theta  \\right)}{\\partial {{\\theta }_{j}}}=\\frac{1}{m}\\sum\\limits_{i=1}^{m}{({{h}_{\\theta }}\\left( {{x}^{(i)}} \\right)-{{y}^{(i)}})x_{_{j}}^{(i)}}$$"
   ]
  },
  {
   "cell_type": "markdown",
   "id": "2226bba7-0337-4022-959a-b7c12d862e96",
   "metadata": {},
   "source": [
    "向量化：\n",
    "$\\frac{1}{m} X^T( Sigmoid(X\\theta) - y )$"
   ]
  },
  {
   "cell_type": "code",
   "execution_count": 15,
   "id": "81e13217-bf14-404f-99f2-80e4c5896501",
   "metadata": {},
   "outputs": [],
   "source": [
    "def gradient_descent(x,y,theta,alpha,num_iters):\n",
    "    \"\"\"\n",
    "    梯度下降函数\n",
    "    :param x:特征矩阵\n",
    "    :param y:结果\n",
    "    :param theta:参数向量\n",
    "    :param alpha:学习率\n",
    "    :param num_iters:迭代次数\n",
    "    :return:\n",
    "    \"\"\"\n",
    "    theta=np.matrix(theta)#转为矩阵，方便运算\n",
    "    x=np.matrix(x)\n",
    "    y=np.matrix(y)\n",
    "\n",
    "    parameters = int(theta.ravel().shape[1])#获取参数数量\n",
    "    m=len(y)#样本数量\n",
    "\n",
    "    for i in range(num_iters):#开始迭代\n",
    "        error=sigmoid(x*theta.T).ravel()-y#误差\n",
    "        grad=np.zeros(parameters)#初始化梯度\n",
    "        for j in range(parameters):#计算每个参数的梯度\n",
    "            term=np.multiply(error,x[:,j])\n",
    "            grad[j]=np.sum(term)/m\n",
    "        theta-=alpha*grad#更新参数\n",
    "\n",
    "    return theta"
   ]
  },
  {
   "cell_type": "markdown",
   "id": "0b84a528-2a18-431f-9d34-093d0bde2ca2",
   "metadata": {},
   "source": [
    "我们可以使用sigmoid函数对数据集x进行预测\n",
    "我们可以假定当\n",
    "${{h}_{\\theta }}$大于等于0.5时，预测 y=1\n",
    "当${{h}_{\\theta }}$小于0.5时，预测 y=0 。"
   ]
  },
  {
   "cell_type": "code",
   "execution_count": 17,
   "id": "807a06c8-4aef-40ed-b440-baa97a581675",
   "metadata": {},
   "outputs": [],
   "source": [
    "#处理数据\n",
    "data.insert(0,'Ones',1)#往数据集前面插入一列值都为1的\n",
    "cols=data.shape[1]#列数\n",
    "x=data.iloc[:,0:cols-1]#除最后一列的所有列\n",
    "y=data.iloc[:,cols-1:cols]#最后一列\n",
    "x=np.array(x.values)\n",
    "y=np.array(y.values)\n",
    "theta=np.zeros(3)"
   ]
  },
  {
   "cell_type": "markdown",
   "id": "fe8cd571-11ba-4d42-b76f-d7f4f2cce37f",
   "metadata": {},
   "source": [
    "我们先来看一下初始代价"
   ]
  },
  {
   "cell_type": "code",
   "execution_count": 19,
   "id": "12c38e30-a5ec-4297-bbc5-9948657db39b",
   "metadata": {},
   "outputs": [
    {
     "name": "stdout",
     "output_type": "stream",
     "text": [
      "0.6931471805599453\n"
     ]
    }
   ],
   "source": [
    "initial_cost=cost_function(x,y,theta)\n",
    "print(initial_cost)"
   ]
  },
  {
   "cell_type": "code",
   "execution_count": 20,
   "id": "5bf8e8f6-8ab2-48e0-b435-90ec3da88561",
   "metadata": {},
   "outputs": [],
   "source": [
    "alpha=0.01\n",
    "num_iters=1000"
   ]
  },
  {
   "cell_type": "code",
   "execution_count": 21,
   "id": "502fc73c-f1f7-4840-a54a-667e977c9793",
   "metadata": {},
   "outputs": [
    {
     "name": "stdout",
     "output_type": "stream",
     "text": [
      "训练后的参数: [[ -75.0495424   306.69674142 -248.80943168]]\n"
     ]
    },
    {
     "name": "stderr",
     "output_type": "stream",
     "text": [
      "C:\\Users\\linyu\\AppData\\Local\\Temp\\ipykernel_26560\\2406962462.py:8: RuntimeWarning: overflow encountered in exp\n",
      "  return 1/(1+np.exp(-z))\n"
     ]
    }
   ],
   "source": [
    "theta=gradient_descent(x, y, theta, alpha, num_iters)\n",
    "print(f\"训练后的参数: {theta}\")"
   ]
  },
  {
   "cell_type": "code",
   "execution_count": 22,
   "id": "2ffc8af2-bad9-4790-b81c-1ddae59eb0cb",
   "metadata": {},
   "outputs": [],
   "source": [
    "def predict(x,theta):\n",
    "    probabilities = sigmoid(np.dot(x, theta.T))\n",
    "    # 根据概率值判断预测类别\n",
    "    return [1 if prob >= 0.5 else 0 for prob in probabilities]"
   ]
  },
  {
   "cell_type": "code",
   "execution_count": 23,
   "id": "0c0b21e3-6c12-4a2e-9f0f-6d40e3c5fa57",
   "metadata": {},
   "outputs": [
    {
     "name": "stdout",
     "output_type": "stream",
     "text": [
      "[1]\n"
     ]
    }
   ],
   "source": [
    "x_new=np.array([[1,68,69]])\n",
    "predictions=predict(x_new,theta)\n",
    "print(predictions)"
   ]
  }
 ],
 "metadata": {
  "kernelspec": {
   "display_name": "Python [conda env:anaconda3] *",
   "language": "python",
   "name": "conda-env-anaconda3-py"
  },
  "language_info": {
   "codemirror_mode": {
    "name": "ipython",
    "version": 3
   },
   "file_extension": ".py",
   "mimetype": "text/x-python",
   "name": "python",
   "nbconvert_exporter": "python",
   "pygments_lexer": "ipython3",
   "version": "3.12.7"
  }
 },
 "nbformat": 4,
 "nbformat_minor": 5
}
